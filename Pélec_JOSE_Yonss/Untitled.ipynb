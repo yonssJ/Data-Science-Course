{
 "cells": [
  {
   "cell_type": "code",
   "execution_count": null,
   "id": "74e93686-4b41-4dbd-9500-015d4f855390",
   "metadata": {},
   "outputs": [],
   "source": [
    "Similarely, order_items, order_payments, order_reviews, orders_dataset and products_dataset are linked by the order_id. They should have the same length"
   ]
  }
 ],
 "metadata": {
  "kernelspec": {
   "display_name": "Python 3",
   "language": "python",
   "name": "python3"
  },
  "language_info": {
   "codemirror_mode": {
    "name": "ipython",
    "version": 3
   },
   "file_extension": ".py",
   "mimetype": "text/x-python",
   "name": "python",
   "nbconvert_exporter": "python",
   "pygments_lexer": "ipython3",
   "version": "3.8.8"
  }
 },
 "nbformat": 4,
 "nbformat_minor": 5
}
