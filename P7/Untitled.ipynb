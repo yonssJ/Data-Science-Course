{
 "cells": [
  {
   "cell_type": "code",
   "execution_count": 1,
   "id": "787d63ec-8041-4ae7-bfd2-2586bdf4d788",
   "metadata": {},
   "outputs": [],
   "source": [
    "import pandas as pd\n",
    "import matplotlib.pyplot as plt\n",
    "import numpy as np\n",
    "import copy\n",
    "import seaborn as sns\n",
    "import os\n",
    "import shutil\n",
    "import re\n",
    "from zipfile import ZipFile\n",
    "from os import listdir\n",
    "from pathlib import Path\n",
    "import glob"
   ]
  },
  {
   "cell_type": "code",
   "execution_count": 2,
   "id": "977c5660-cd22-4073-bc75-da5f554b41eb",
   "metadata": {},
   "outputs": [
    {
     "name": "stdout",
     "output_type": "stream",
     "text": [
      "Fichier existe\n"
     ]
    }
   ],
   "source": [
    "dir_data = Path('../../DATA/P7') \n",
    "dir_fig  = Path('../../FIGURE/P7')\n",
    "work_dir=os.getcwd()\n",
    "CHECK_FOLDER  = Path('../../DATA/P7') \n",
    "\n",
    "csv_files = glob.glob(os.path.join(dir_data, '*.csv'))\n",
    "\n",
    "if len(csv_files) > 0:\n",
    "    print (\"Fichier existe\") \n",
    "else:\n",
    "    for dirname, _, filenames in os.walk(dir_data):\n",
    "        for filename in filenames:\n",
    "            file_in=os.path.join(dirname, filename)\n",
    "            print(file_in)\n",
    "            with ZipFile(file_in, 'r') as zip:\n",
    "                zip.extractall(dir_data)\n",
    "    \n",
    "    csv_files = glob.glob(os.path.join(dir_data, '*.csv'))\n",
    "#\n"
   ]
  },
  {
   "cell_type": "code",
   "execution_count": 3,
   "id": "48f6b587-0bcc-4cec-a44e-2144e5436370",
   "metadata": {},
   "outputs": [
    {
     "data": {
      "text/plain": [
       "'../../DATA/P7/installments_payments.csv: (13605401, 8)'"
      ]
     },
     "metadata": {},
     "output_type": "display_data"
    },
    {
     "data": {
      "text/plain": [
       "'../../DATA/P7/POS_CASH_balance.csv: (10001358, 8)'"
      ]
     },
     "metadata": {},
     "output_type": "display_data"
    },
    {
     "data": {
      "text/plain": [
       "'../../DATA/P7/application_test.csv: (48744, 121)'"
      ]
     },
     "metadata": {},
     "output_type": "display_data"
    },
    {
     "data": {
      "text/plain": [
       "'../../DATA/P7/HomeCredit_columns_description.csv: (219, 5)'"
      ]
     },
     "metadata": {},
     "output_type": "display_data"
    },
    {
     "data": {
      "text/plain": [
       "'../../DATA/P7/credit_card_balance.csv: (3840312, 23)'"
      ]
     },
     "metadata": {},
     "output_type": "display_data"
    },
    {
     "data": {
      "text/plain": [
       "'../../DATA/P7/application_train.csv: (307511, 122)'"
      ]
     },
     "metadata": {},
     "output_type": "display_data"
    },
    {
     "data": {
      "text/plain": [
       "'../../DATA/P7/bureau_balance.csv: (27299925, 3)'"
      ]
     },
     "metadata": {},
     "output_type": "display_data"
    },
    {
     "data": {
      "text/plain": [
       "'../../DATA/P7/sample_submission.csv: (48744, 2)'"
      ]
     },
     "metadata": {},
     "output_type": "display_data"
    },
    {
     "data": {
      "text/plain": [
       "'../../DATA/P7/bureau.csv: (1716428, 17)'"
      ]
     },
     "metadata": {},
     "output_type": "display_data"
    },
    {
     "data": {
      "text/plain": [
       "'../../DATA/P7/previous_application.csv: (1670214, 37)'"
      ]
     },
     "metadata": {},
     "output_type": "display_data"
    }
   ],
   "source": [
    "knx=0\n",
    "data = {}\n",
    "files={}\n",
    "for file  in  csv_files:\n",
    "    data[knx] = pd.read_csv(file, encoding = \"ISO-8859-1\")\n",
    "    files[knx] = file\n",
    "    display(f\"{file}: {data[knx].shape}\")\n",
    "    knx=knx+1"
   ]
  },
  {
   "cell_type": "markdown",
   "id": "ac002702-07d4-4f7a-a5c1-29d88485c699",
   "metadata": {},
   "source": [
    "Les differents fichiers ont des tailles differentes."
   ]
  },
  {
   "cell_type": "code",
   "execution_count": 4,
   "id": "f4b0d56b-5e4b-41e8-b66b-efa0a7b3ae4c",
   "metadata": {},
   "outputs": [
    {
     "name": "stdout",
     "output_type": "stream",
     "text": [
      "                        Total   Percent\n",
      "DAYS_ENTRY_PAYMENT       2905  0.021352\n",
      "AMT_PAYMENT              2905  0.021352\n",
      "SK_ID_PREV                  0  0.000000\n",
      "SK_ID_CURR                  0  0.000000\n",
      "NUM_INSTALMENT_VERSION      0  0.000000\n",
      "NUM_INSTALMENT_NUMBER       0  0.000000\n",
      "DAYS_INSTALMENT             0  0.000000\n",
      "AMT_INSTALMENT              0  0.000000 ../../DATA/P7/installments_payments.csv\n",
      "                       Total   Percent\n",
      "CNT_INSTALMENT_FUTURE  26087  0.260835\n",
      "CNT_INSTALMENT         26071  0.260675\n",
      "SK_ID_PREV                 0  0.000000\n",
      "SK_ID_CURR                 0  0.000000\n",
      "MONTHS_BALANCE             0  0.000000\n",
      "NAME_CONTRACT_STATUS       0  0.000000\n",
      "SK_DPD                     0  0.000000\n",
      "SK_DPD_DEF                 0  0.000000 ../../DATA/P7/POS_CASH_balance.csv\n",
      "                          Total    Percent\n",
      "COMMONAREA_AVG            33495  68.716150\n",
      "COMMONAREA_MODE           33495  68.716150\n",
      "COMMONAREA_MEDI           33495  68.716150\n",
      "NONLIVINGAPARTMENTS_AVG   33347  68.412523\n",
      "NONLIVINGAPARTMENTS_MODE  33347  68.412523\n",
      "...                         ...        ...\n",
      "NAME_HOUSING_TYPE             0   0.000000\n",
      "NAME_FAMILY_STATUS            0   0.000000\n",
      "NAME_EDUCATION_TYPE           0   0.000000\n",
      "NAME_INCOME_TYPE              0   0.000000\n",
      "SK_ID_CURR                    0   0.000000\n",
      "\n",
      "[121 rows x 2 columns] ../../DATA/P7/application_test.csv\n",
      "             Total    Percent\n",
      "Special        133  60.730594\n",
      "Unnamed: 0       0   0.000000\n",
      "Table            0   0.000000\n",
      "Row              0   0.000000\n",
      "Description      0   0.000000 ../../DATA/P7/HomeCredit_columns_description.csv\n",
      "                             Total    Percent\n",
      "AMT_PAYMENT_CURRENT         767988  19.998063\n",
      "AMT_DRAWINGS_ATM_CURRENT    749816  19.524872\n",
      "CNT_DRAWINGS_POS_CURRENT    749816  19.524872\n",
      "AMT_DRAWINGS_OTHER_CURRENT  749816  19.524872\n",
      "AMT_DRAWINGS_POS_CURRENT    749816  19.524872\n",
      "CNT_DRAWINGS_OTHER_CURRENT  749816  19.524872\n",
      "CNT_DRAWINGS_ATM_CURRENT    749816  19.524872\n",
      "CNT_INSTALMENT_MATURE_CUM   305236   7.948208\n",
      "AMT_INST_MIN_REGULARITY     305236   7.948208\n",
      "SK_ID_PREV                       0   0.000000\n",
      "AMT_TOTAL_RECEIVABLE             0   0.000000\n",
      "SK_DPD                           0   0.000000\n",
      "NAME_CONTRACT_STATUS             0   0.000000\n",
      "CNT_DRAWINGS_CURRENT             0   0.000000\n",
      "AMT_PAYMENT_TOTAL_CURRENT        0   0.000000\n",
      "AMT_RECIVABLE                    0   0.000000\n",
      "AMT_RECEIVABLE_PRINCIPAL         0   0.000000\n",
      "SK_ID_CURR                       0   0.000000\n",
      "AMT_DRAWINGS_CURRENT             0   0.000000\n",
      "AMT_CREDIT_LIMIT_ACTUAL          0   0.000000\n",
      "AMT_BALANCE                      0   0.000000\n",
      "MONTHS_BALANCE                   0   0.000000\n",
      "SK_DPD_DEF                       0   0.000000 ../../DATA/P7/credit_card_balance.csv\n",
      "                           Total    Percent\n",
      "COMMONAREA_MEDI           214865  69.872297\n",
      "COMMONAREA_AVG            214865  69.872297\n",
      "COMMONAREA_MODE           214865  69.872297\n",
      "NONLIVINGAPARTMENTS_MODE  213514  69.432963\n",
      "NONLIVINGAPARTMENTS_AVG   213514  69.432963\n",
      "...                          ...        ...\n",
      "NAME_HOUSING_TYPE              0   0.000000\n",
      "NAME_FAMILY_STATUS             0   0.000000\n",
      "NAME_EDUCATION_TYPE            0   0.000000\n",
      "NAME_INCOME_TYPE               0   0.000000\n",
      "SK_ID_CURR                     0   0.000000\n",
      "\n",
      "[122 rows x 2 columns] ../../DATA/P7/application_train.csv\n",
      "                Total  Percent\n",
      "SK_ID_BUREAU        0      0.0\n",
      "MONTHS_BALANCE      0      0.0\n",
      "STATUS              0      0.0 ../../DATA/P7/bureau_balance.csv\n",
      "            Total  Percent\n",
      "SK_ID_CURR      0      0.0\n",
      "TARGET          0      0.0 ../../DATA/P7/sample_submission.csv\n",
      "                          Total    Percent\n",
      "AMT_ANNUITY             1226791  71.473490\n",
      "AMT_CREDIT_MAX_OVERDUE  1124488  65.513264\n",
      "DAYS_ENDDATE_FACT        633653  36.916958\n",
      "AMT_CREDIT_SUM_LIMIT     591780  34.477415\n",
      "AMT_CREDIT_SUM_DEBT      257669  15.011932\n",
      "DAYS_CREDIT_ENDDATE      105553   6.149573\n",
      "AMT_CREDIT_SUM               13   0.000757\n",
      "CREDIT_ACTIVE                 0   0.000000\n",
      "CREDIT_CURRENCY               0   0.000000\n",
      "DAYS_CREDIT                   0   0.000000\n",
      "CREDIT_DAY_OVERDUE            0   0.000000\n",
      "SK_ID_BUREAU                  0   0.000000\n",
      "CNT_CREDIT_PROLONG            0   0.000000\n",
      "AMT_CREDIT_SUM_OVERDUE        0   0.000000\n",
      "CREDIT_TYPE                   0   0.000000\n",
      "DAYS_CREDIT_UPDATE            0   0.000000\n",
      "SK_ID_CURR                    0   0.000000 ../../DATA/P7/bureau.csv\n",
      "                               Total    Percent\n",
      "RATE_INTEREST_PRIVILEGED     1664263  99.643698\n",
      "RATE_INTEREST_PRIMARY        1664263  99.643698\n",
      "AMT_DOWN_PAYMENT              895844  53.636480\n",
      "RATE_DOWN_PAYMENT             895844  53.636480\n",
      "NAME_TYPE_SUITE               820405  49.119754\n",
      "NFLAG_INSURED_ON_APPROVAL     673065  40.298129\n",
      "DAYS_TERMINATION              673065  40.298129\n",
      "DAYS_LAST_DUE                 673065  40.298129\n",
      "DAYS_LAST_DUE_1ST_VERSION     673065  40.298129\n",
      "DAYS_FIRST_DUE                673065  40.298129\n",
      "DAYS_FIRST_DRAWING            673065  40.298129\n",
      "AMT_GOODS_PRICE               385515  23.081773\n",
      "AMT_ANNUITY                   372235  22.286665\n",
      "CNT_PAYMENT                   372230  22.286366\n",
      "PRODUCT_COMBINATION              346   0.020716\n",
      "AMT_CREDIT                         1   0.000060\n",
      "NAME_YIELD_GROUP                   0   0.000000\n",
      "NAME_PORTFOLIO                     0   0.000000\n",
      "NAME_SELLER_INDUSTRY               0   0.000000\n",
      "SELLERPLACE_AREA                   0   0.000000\n",
      "CHANNEL_TYPE                       0   0.000000\n",
      "NAME_PRODUCT_TYPE                  0   0.000000\n",
      "SK_ID_PREV                         0   0.000000\n",
      "NAME_GOODS_CATEGORY                0   0.000000\n",
      "NAME_CLIENT_TYPE                   0   0.000000\n",
      "CODE_REJECT_REASON                 0   0.000000\n",
      "SK_ID_CURR                         0   0.000000\n",
      "DAYS_DECISION                      0   0.000000\n",
      "NAME_CONTRACT_STATUS               0   0.000000\n",
      "NAME_CASH_LOAN_PURPOSE             0   0.000000\n",
      "NFLAG_LAST_APPL_IN_DAY             0   0.000000\n",
      "FLAG_LAST_APPL_PER_CONTRACT        0   0.000000\n",
      "HOUR_APPR_PROCESS_START            0   0.000000\n",
      "WEEKDAY_APPR_PROCESS_START         0   0.000000\n",
      "AMT_APPLICATION                    0   0.000000\n",
      "NAME_CONTRACT_TYPE                 0   0.000000\n",
      "NAME_PAYMENT_TYPE                  0   0.000000 ../../DATA/P7/previous_application.csv\n"
     ]
    }
   ],
   "source": [
    "def missing_data(data):\n",
    "    total = data.isnull().sum().sort_values(ascending = False)\n",
    "    percent = (data.isnull().sum()/data.isnull().count()*100).sort_values(ascending = False)\n",
    "    return pd.concat([total, percent], axis=1, keys=['Total', 'Percent'])\n",
    "\n",
    "for knx in data:\n",
    "    miss_val=missing_data(data[knx])\n",
    "    print( miss_val,files[knx])"
   ]
  },
  {
   "cell_type": "code",
   "execution_count": 5,
   "id": "8b4f322e-88a3-455c-a452-351fcab3fa69",
   "metadata": {},
   "outputs": [],
   "source": [
    "\n",
    "for knx in data:\n",
    "    data[knx]=data[knx].dropna()"
   ]
  },
  {
   "cell_type": "code",
   "execution_count": 6,
   "id": "ed13a3fa-2b16-4171-815a-7a22d68a89b1",
   "metadata": {},
   "outputs": [
    {
     "name": "stdout",
     "output_type": "stream",
     "text": [
      "                        Total  Percent\n",
      "SK_ID_PREV                  0      0.0\n",
      "SK_ID_CURR                  0      0.0\n",
      "NUM_INSTALMENT_VERSION      0      0.0\n",
      "NUM_INSTALMENT_NUMBER       0      0.0\n",
      "DAYS_INSTALMENT             0      0.0\n",
      "DAYS_ENTRY_PAYMENT          0      0.0\n",
      "AMT_INSTALMENT              0      0.0\n",
      "AMT_PAYMENT                 0      0.0 ../../DATA/P7/installments_payments.csv\n",
      "                       Total  Percent\n",
      "SK_ID_PREV                 0      0.0\n",
      "SK_ID_CURR                 0      0.0\n",
      "MONTHS_BALANCE             0      0.0\n",
      "CNT_INSTALMENT             0      0.0\n",
      "CNT_INSTALMENT_FUTURE      0      0.0\n",
      "NAME_CONTRACT_STATUS       0      0.0\n",
      "SK_DPD                     0      0.0\n",
      "SK_DPD_DEF                 0      0.0 ../../DATA/P7/POS_CASH_balance.csv\n",
      "                             Total  Percent\n",
      "SK_ID_CURR                       0      0.0\n",
      "COMMONAREA_MODE                  0      0.0\n",
      "EMERGENCYSTATE_MODE              0      0.0\n",
      "WALLSMATERIAL_MODE               0      0.0\n",
      "TOTALAREA_MODE                   0      0.0\n",
      "...                            ...      ...\n",
      "REG_CITY_NOT_LIVE_CITY           0      0.0\n",
      "LIVE_REGION_NOT_WORK_REGION      0      0.0\n",
      "REG_REGION_NOT_WORK_REGION       0      0.0\n",
      "REG_REGION_NOT_LIVE_REGION       0      0.0\n",
      "AMT_REQ_CREDIT_BUREAU_YEAR       0      0.0\n",
      "\n",
      "[121 rows x 2 columns] ../../DATA/P7/application_test.csv\n",
      "             Total  Percent\n",
      "Unnamed: 0       0      0.0\n",
      "Table            0      0.0\n",
      "Row              0      0.0\n",
      "Description      0      0.0\n",
      "Special          0      0.0 ../../DATA/P7/HomeCredit_columns_description.csv\n",
      "                            Total  Percent\n",
      "SK_ID_PREV                      0      0.0\n",
      "AMT_RECEIVABLE_PRINCIPAL        0      0.0\n",
      "SK_DPD                          0      0.0\n",
      "NAME_CONTRACT_STATUS            0      0.0\n",
      "CNT_INSTALMENT_MATURE_CUM       0      0.0\n",
      "CNT_DRAWINGS_POS_CURRENT        0      0.0\n",
      "CNT_DRAWINGS_OTHER_CURRENT      0      0.0\n",
      "CNT_DRAWINGS_CURRENT            0      0.0\n",
      "CNT_DRAWINGS_ATM_CURRENT        0      0.0\n",
      "AMT_TOTAL_RECEIVABLE            0      0.0\n",
      "AMT_RECIVABLE                   0      0.0\n",
      "AMT_PAYMENT_TOTAL_CURRENT       0      0.0\n",
      "SK_ID_CURR                      0      0.0\n",
      "AMT_PAYMENT_CURRENT             0      0.0\n",
      "AMT_INST_MIN_REGULARITY         0      0.0\n",
      "AMT_DRAWINGS_POS_CURRENT        0      0.0\n",
      "AMT_DRAWINGS_OTHER_CURRENT      0      0.0\n",
      "AMT_DRAWINGS_CURRENT            0      0.0\n",
      "AMT_DRAWINGS_ATM_CURRENT        0      0.0\n",
      "AMT_CREDIT_LIMIT_ACTUAL         0      0.0\n",
      "AMT_BALANCE                     0      0.0\n",
      "MONTHS_BALANCE                  0      0.0\n",
      "SK_DPD_DEF                      0      0.0 ../../DATA/P7/credit_card_balance.csv\n",
      "                             Total  Percent\n",
      "SK_ID_CURR                       0      0.0\n",
      "OBS_30_CNT_SOCIAL_CIRCLE         0      0.0\n",
      "WALLSMATERIAL_MODE               0      0.0\n",
      "TOTALAREA_MODE                   0      0.0\n",
      "HOUSETYPE_MODE                   0      0.0\n",
      "...                            ...      ...\n",
      "LIVE_REGION_NOT_WORK_REGION      0      0.0\n",
      "REG_REGION_NOT_WORK_REGION       0      0.0\n",
      "REG_REGION_NOT_LIVE_REGION       0      0.0\n",
      "HOUR_APPR_PROCESS_START          0      0.0\n",
      "AMT_REQ_CREDIT_BUREAU_YEAR       0      0.0\n",
      "\n",
      "[122 rows x 2 columns] ../../DATA/P7/application_train.csv\n",
      "                Total  Percent\n",
      "SK_ID_BUREAU        0      0.0\n",
      "MONTHS_BALANCE      0      0.0\n",
      "STATUS              0      0.0 ../../DATA/P7/bureau_balance.csv\n",
      "            Total  Percent\n",
      "SK_ID_CURR      0      0.0\n",
      "TARGET          0      0.0 ../../DATA/P7/sample_submission.csv\n",
      "                        Total  Percent\n",
      "SK_ID_CURR                  0      0.0\n",
      "CNT_CREDIT_PROLONG          0      0.0\n",
      "DAYS_CREDIT_UPDATE          0      0.0\n",
      "CREDIT_TYPE                 0      0.0\n",
      "AMT_CREDIT_SUM_OVERDUE      0      0.0\n",
      "AMT_CREDIT_SUM_LIMIT        0      0.0\n",
      "AMT_CREDIT_SUM_DEBT         0      0.0\n",
      "AMT_CREDIT_SUM              0      0.0\n",
      "AMT_CREDIT_MAX_OVERDUE      0      0.0\n",
      "SK_ID_BUREAU                0      0.0\n",
      "DAYS_ENDDATE_FACT           0      0.0\n",
      "DAYS_CREDIT_ENDDATE         0      0.0\n",
      "CREDIT_DAY_OVERDUE          0      0.0\n",
      "DAYS_CREDIT                 0      0.0\n",
      "CREDIT_CURRENCY             0      0.0\n",
      "CREDIT_ACTIVE               0      0.0\n",
      "AMT_ANNUITY                 0      0.0 ../../DATA/P7/bureau.csv\n",
      "                             Total  Percent\n",
      "SK_ID_PREV                       0      0.0\n",
      "CODE_REJECT_REASON               0      0.0\n",
      "NAME_CLIENT_TYPE                 0      0.0\n",
      "NAME_GOODS_CATEGORY              0      0.0\n",
      "NAME_PORTFOLIO                   0      0.0\n",
      "NAME_PRODUCT_TYPE                0      0.0\n",
      "CHANNEL_TYPE                     0      0.0\n",
      "SELLERPLACE_AREA                 0      0.0\n",
      "NAME_SELLER_INDUSTRY             0      0.0\n",
      "CNT_PAYMENT                      0      0.0\n",
      "NAME_YIELD_GROUP                 0      0.0\n",
      "PRODUCT_COMBINATION              0      0.0\n",
      "DAYS_FIRST_DRAWING               0      0.0\n",
      "DAYS_FIRST_DUE                   0      0.0\n",
      "DAYS_LAST_DUE_1ST_VERSION        0      0.0\n",
      "DAYS_LAST_DUE                    0      0.0\n",
      "DAYS_TERMINATION                 0      0.0\n",
      "NAME_TYPE_SUITE                  0      0.0\n",
      "NAME_PAYMENT_TYPE                0      0.0\n",
      "SK_ID_CURR                       0      0.0\n",
      "DAYS_DECISION                    0      0.0\n",
      "NAME_CONTRACT_TYPE               0      0.0\n",
      "AMT_ANNUITY                      0      0.0\n",
      "AMT_APPLICATION                  0      0.0\n",
      "AMT_CREDIT                       0      0.0\n",
      "AMT_DOWN_PAYMENT                 0      0.0\n",
      "AMT_GOODS_PRICE                  0      0.0\n",
      "WEEKDAY_APPR_PROCESS_START       0      0.0\n",
      "HOUR_APPR_PROCESS_START          0      0.0\n",
      "FLAG_LAST_APPL_PER_CONTRACT      0      0.0\n",
      "NFLAG_LAST_APPL_IN_DAY           0      0.0\n",
      "RATE_DOWN_PAYMENT                0      0.0\n",
      "RATE_INTEREST_PRIMARY            0      0.0\n",
      "RATE_INTEREST_PRIVILEGED         0      0.0\n",
      "NAME_CASH_LOAN_PURPOSE           0      0.0\n",
      "NAME_CONTRACT_STATUS             0      0.0\n",
      "NFLAG_INSURED_ON_APPROVAL        0      0.0 ../../DATA/P7/previous_application.csv\n"
     ]
    }
   ],
   "source": [
    "\n",
    "for knx in data:\n",
    "    miss_val=missing_data(data[knx])\n",
    "    print( miss_val,files[knx])"
   ]
  },
  {
   "cell_type": "code",
   "execution_count": null,
   "id": "a1b4a97d-97af-48a9-928f-b7513ebd6293",
   "metadata": {},
   "outputs": [],
   "source": []
  }
 ],
 "metadata": {
  "kernelspec": {
   "display_name": "Python 3 (ipykernel)",
   "language": "python",
   "name": "python3"
  },
  "language_info": {
   "codemirror_mode": {
    "name": "ipython",
    "version": 3
   },
   "file_extension": ".py",
   "mimetype": "text/x-python",
   "name": "python",
   "nbconvert_exporter": "python",
   "pygments_lexer": "ipython3",
   "version": "3.9.7"
  }
 },
 "nbformat": 4,
 "nbformat_minor": 5
}
