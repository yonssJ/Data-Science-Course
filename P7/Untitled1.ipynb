{
 "cells": [
  {
   "cell_type": "code",
   "execution_count": null,
   "id": "4196a00c-e1e5-485c-beba-b6c3e7abcb94",
   "metadata": {},
   "outputs": [],
   "source": []
  }
 ],
 "metadata": {
  "kernelspec": {
   "display_name": "",
   "name": ""
  },
  "language_info": {
   "name": ""
  }
 },
 "nbformat": 4,
 "nbformat_minor": 5
}
