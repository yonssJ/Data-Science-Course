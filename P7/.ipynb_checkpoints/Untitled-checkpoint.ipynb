{
 "cells": [
  {
   "cell_type": "code",
   "execution_count": 1,
   "id": "787d63ec-8041-4ae7-bfd2-2586bdf4d788",
   "metadata": {},
   "outputs": [],
   "source": [
    "import pandas as pd\n",
    "import matplotlib.pyplot as plt\n",
    "import numpy as np\n",
    "import copy\n",
    "import seaborn as sns\n",
    "import os\n",
    "import shutil\n",
    "import re\n",
    "from zipfile import ZipFile\n",
    "from os import listdir\n",
    "from pathlib import Path"
   ]
  },
  {
   "cell_type": "code",
   "execution_count": 6,
   "id": "977c5660-cd22-4073-bc75-da5f554b41eb",
   "metadata": {},
   "outputs": [],
   "source": [
    "dir_data = Path('../../DATA/P7') \n",
    "dir_fig  = Path('../../FIGURE/P7')\n",
    "work_dir=os.getcwd()\n",
    "CHECK_FOLDER  = Path('../../DATA/P7') \n",
    "import glob\n",
    "import os.path\n"
   ]
  },
  {
   "cell_type": "code",
   "execution_count": null,
   "id": "7287a9b0-b3c3-46c7-aea1-8ba3d8043686",
   "metadata": {},
   "outputs": [
    {
     "data": {
      "text/plain": [
       "['../../DATA/P7/installments_payments.csv',\n",
       " '../../DATA/P7/POS_CASH_balance.csv',\n",
       " '../../DATA/P7/application_test.csv',\n",
       " '../../DATA/P7/HomeCredit_columns_description.csv',\n",
       " '../../DATA/P7/credit_card_balance.csv',\n",
       " '../../DATA/P7/application_train.csv',\n",
       " '../../DATA/P7/bureau_balance.csv',\n",
       " '../../DATA/P7/sample_submission.csv',\n",
       " '../../DATA/P7/bureau.csv',\n",
       " '../../DATA/P7/previous_application.csv']"
      ]
     },
     "execution_count": 7,
     "metadata": {},
     "output_type": "execute_result"
    }
   ],
   "source": []
  }
 ],
 "metadata": {
  "kernelspec": {
   "display_name": "Python 3 (ipykernel)",
   "language": "python",
   "name": "python3"
  },
  "language_info": {
   "codemirror_mode": {
    "name": "ipython",
    "version": 3
   },
   "file_extension": ".py",
   "mimetype": "text/x-python",
   "name": "python",
   "nbconvert_exporter": "python",
   "pygments_lexer": "ipython3",
   "version": "3.9.7"
  }
 },
 "nbformat": 4,
 "nbformat_minor": 5
}
