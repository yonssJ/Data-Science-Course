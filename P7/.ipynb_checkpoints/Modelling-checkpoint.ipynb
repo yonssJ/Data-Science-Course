{
 "cells": [
  {
   "cell_type": "markdown",
   "id": "9b09d0db-be7c-48fd-80d5-cf27952695f0",
   "metadata": {},
   "source": [
    "# Implémentez un modèle de scoring"
   ]
  },
  {
   "cell_type": "markdown",
   "id": "3e7188b6-25f3-42d7-af0c-a9a969ef00ec",
   "metadata": {
    "tags": []
   },
   "source": [
    "## Résumé du projet\n"
   ]
  },
  {
   "cell_type": "markdown",
   "id": "8b8318e9-6d9a-4394-b46a-a87cdfc8cd7e",
   "metadata": {},
   "source": [
    "## Chargement des bibliothèques nécessaires"
   ]
  },
  {
   "cell_type": "code",
   "execution_count": 1,
   "id": "787d63ec-8041-4ae7-bfd2-2586bdf4d788",
   "metadata": {},
   "outputs": [],
   "source": [
    "import pandas as pd\n",
    "import matplotlib.pyplot as plt\n",
    "import numpy as np\n",
    "import copy\n",
    "import seaborn as sns\n",
    "import os\n",
    "import shutil\n",
    "import re\n",
    "from zipfile import ZipFile\n",
    "from os import listdir\n",
    "from pathlib import Path\n",
    "import glob\n",
    "\n",
    "from sklearn import preprocessing\n",
    "from sklearn.model_selection import train_test_split\n",
    "\n",
    "from sklearn.tree import DecisionTreeClassifier\n",
    "from sklearn.ensemble import RandomForestClassifier\n",
    "from xgboost import XGBClassifier\n",
    "from sklearn.dummy import DummyClassifier\n",
    "import time\n",
    "from sklearn.model_selection import KFold,train_test_split,cross_val_score, GridSearchCV\n",
    "\n",
    "from sklearn.metrics import roc_auc_score,roc_curve,f1_score\n",
    "from sklearn.metrics import confusion_matrix,plot_confusion_matrix\n",
    "from sklearn.metrics import precision_recall_curve,recall_score,precision_score\n",
    "\n",
    "from sklearn.preprocessing import LabelEncoder\n",
    "\n",
    "import warnings\n",
    "warnings.simplefilter(action='ignore', category=Warning)"
   ]
  },
  {
   "cell_type": "markdown",
   "id": "bfe07e58-4fb2-4636-a4b5-bc4f9672b0da",
   "metadata": {
    "tags": []
   },
   "source": [
    "## Données"
   ]
  },
  {
   "cell_type": "code",
   "execution_count": 2,
   "id": "977c5660-cd22-4073-bc75-da5f554b41eb",
   "metadata": {},
   "outputs": [],
   "source": [
    "dir_data = Path('../../DATA/P7') \n",
    "dir_fig  = Path('../../FIGURE/P7')\n",
    "\n",
    "filetrain=str(dir_data) + '/data_merged_train2use.csv'\n",
    "filetest=str(dir_data) + '/data_merged_test2use.csv'\n",
    "csv_files=[filetrain,filetrain]"
   ]
  },
  {
   "cell_type": "code",
   "execution_count": 3,
   "id": "48f6b587-0bcc-4cec-a44e-2144e5436370",
   "metadata": {},
   "outputs": [
    {
     "data": {
      "text/plain": [
       "'data_merged_train2use: (307511, 64)'"
      ]
     },
     "metadata": {},
     "output_type": "display_data"
    },
    {
     "data": {
      "text/plain": [
       "'data_merged_train2use: (307511, 64)'"
      ]
     },
     "metadata": {},
     "output_type": "display_data"
    }
   ],
   "source": [
    "data = {}\n",
    "for file  in  csv_files:\n",
    "    keys = file.split('../../DATA/P7/')[1].split('.csv')[0]\n",
    "    data[keys] =pd.read_csv(file)\n",
    "    display(f\"{keys}: {data[keys].shape}\")"
   ]
  },
  {
   "cell_type": "markdown",
   "id": "c5d323a1-9d07-4c32-97db-e783148ae407",
   "metadata": {
    "tags": []
   },
   "source": [
    "### Prep for modelling"
   ]
  },
  {
   "cell_type": "code",
   "execution_count": 4,
   "id": "bfb39c03-6e15-48ec-9547-f7da4a35acd6",
   "metadata": {},
   "outputs": [],
   "source": [
    "data['data_merged_train2use'] = data['data_merged_train2use'].astype(float)\n",
    "data['data_merged_train2use'] = data['data_merged_train2use'].replace((np.inf, -np.inf, np.nan), 0).reset_index(drop=True)\n",
    "X=data['data_merged_train2use'].drop('TARGET',axis=1)\n",
    "Y=data['data_merged_train2use']['TARGET']"
   ]
  },
  {
   "cell_type": "code",
   "execution_count": 21,
   "id": "9b74fb13-606a-4062-a1f0-252450d135e2",
   "metadata": {},
   "outputs": [],
   "source": [
    "X=X.drop(['Unnamed: 0'],axis=1)"
   ]
  },
  {
   "cell_type": "code",
   "execution_count": 22,
   "id": "611b0c65-5cd6-48de-8a81-d7a623fdf89a",
   "metadata": {},
   "outputs": [],
   "source": [
    "seed=42\n",
    "scalar    = preprocessing.StandardScaler() \n",
    "std_scalar = scalar.fit(X) \n",
    "X_scaled  = std_scalar.transform(X)\n",
    "X_scaled  = pd.DataFrame(X_scaled,columns=X.columns)"
   ]
  },
  {
   "cell_type": "code",
   "execution_count": 23,
   "id": "2809a49b-0894-4776-8413-20321daf920f",
   "metadata": {},
   "outputs": [],
   "source": [
    "[X_train,X_test,Y_train,Y_test]=train_test_split(X_scaled,Y,test_size=0.3, random_state=seed)"
   ]
  },
  {
   "cell_type": "markdown",
   "id": "fe09a3cf-6a0f-473b-8c33-3fa79cbd17e0",
   "metadata": {},
   "source": [
    "## Modèlisation"
   ]
  },
  {
   "cell_type": "code",
   "execution_count": 52,
   "id": "ba14dd28-b884-4323-ae0a-da85bbef4930",
   "metadata": {},
   "outputs": [],
   "source": [
    "Classifiers = {\n",
    "    \"DummyClassifier\":DummyClassifier(strategy=\"most_frequent\"),\n",
    "    \"RandomForestClassifier\": RandomForestClassifier(random_state=seed),\n",
    "    \"DecisionTreeClassifier\": DecisionTreeClassifier(random_state=seed),\n",
    "    \"XGBClassifier\": XGBClassifier()\n",
    "    }\n",
    "\n",
    "params_Classifiers = {\n",
    "    \"DummyClassifier\" :           {},\n",
    "    \"RandomForestClassifier\":     {'max_depth': [5,10]  ,'max_features': [2, 3]      ,'n_estimators': [10,20] },\n",
    "    \"XGBClassifier\":              {'max_depth': [ 5, 10],'learning_rate': [0.01, 0.1],'n_estimators' : [10,20] }   \n",
    "    }"
   ]
  },
  {
   "cell_type": "code",
   "execution_count": null,
   "id": "84d98622-dc71-4d00-9cc4-e2fefdb44298",
   "metadata": {},
   "outputs": [
    {
     "name": "stdout",
     "output_type": "stream",
     "text": [
      "DummyClassifier\n",
      "RandomForestClassifier\n"
     ]
    }
   ],
   "source": [
    "nsplits=20\n",
    "for model_idx in Classifiers:\n",
    "        #\n",
    "        print(model_idx)\n",
    "        model  = Classifiers[model_idx]\n",
    "        param_grid= params_Classifiers[model_idx]\n",
    "        kfold = KFold(n_splits=nsplits, shuffle=True, random_state=seed)\n",
    "        grid_search = GridSearchCV(estimator=model , param_grid=param_grid, cv=kfold)\n",
    "        grid_search.fit(X_train, Y_train)\n",
    "        "
   ]
  },
  {
   "cell_type": "code",
   "execution_count": 39,
   "id": "cc175f96-03ab-47d9-8188-4e73514bee84",
   "metadata": {},
   "outputs": [
    {
     "ename": "AttributeError",
     "evalue": "'GridSearchCV' object has no attribute 'best_param_'",
     "output_type": "error",
     "traceback": [
      "\u001b[0;31m---------------------------------------------------------------------------\u001b[0m",
      "\u001b[0;31mAttributeError\u001b[0m                            Traceback (most recent call last)",
      "\u001b[0;32m/tmp/ipykernel_76903/3648494956.py\u001b[0m in \u001b[0;36m<module>\u001b[0;34m\u001b[0m\n\u001b[0;32m----> 1\u001b[0;31m \u001b[0mgrid_search\u001b[0m\u001b[0;34m.\u001b[0m\u001b[0mbest_param_\u001b[0m\u001b[0;34m\u001b[0m\u001b[0;34m\u001b[0m\u001b[0m\n\u001b[0m",
      "\u001b[0;31mAttributeError\u001b[0m: 'GridSearchCV' object has no attribute 'best_param_'"
     ]
    }
   ],
   "source": [
    "grid_search.best_param_"
   ]
  },
  {
   "cell_type": "code",
   "execution_count": null,
   "id": "101ec3b5-454d-47f4-a106-f6e04f7f4c50",
   "metadata": {},
   "outputs": [],
   "source": []
  },
  {
   "cell_type": "code",
   "execution_count": 31,
   "id": "2797e5cb-acbb-4cfc-aba2-289317dbeb3f",
   "metadata": {},
   "outputs": [],
   "source": [
    "\n",
    "def Model_Classifier(Classifiers,params_Classifiers,X_train, y_train,X_test,y_test,n_splits,seed):\n",
    "    \n",
    "    results= pd.DataFrame(index=['F1','RECALL','PRECISION','ROC_AUC']) \n",
    "    \n",
    "    Findex=['Cible predite']    \n",
    "    frames_test= [] \n",
    "    Import_Feature=[]\n",
    "    column_Classifiers=[]\n",
    "    \n",
    "    for ks in Classifiers:\n",
    "        column_Classifiers.append(ks)\n",
    "#----------------------------------------------------------------y_EU\n",
    "\n",
    "    for model_idx in Classifiers:\n",
    "        \n",
    "        start_time = time.time()\n",
    "        #\n",
    "        print(model_idx)\n",
    "        model  = Classifiers[model_idx]\n",
    "        #\n",
    "        model.fit(X_train, y_train)\n",
    "        \n",
    "        y_pred = model.predict(X_test)\n",
    "        y_pred_proba = model.predict_proba(X_test)[:,1]\n",
    "        \n",
    "        # Funtion cout\n",
    "        auc_test = roc_auc_score(y_test, y_pred_proba)\n",
    "        f1_test    = f1_score(y_test, y_pred, average='weighted')\n",
    "        recall_test= recall_score(y_test, y_pred, average='weighted')\n",
    "        pres_test  =precision_score(y_test, y_pred, average='weighted')\n",
    "        \n",
    "        \n",
    "        print(recall_test,pres_test,f1_test,auc_test )\n",
    "        results[model_idx]=[f1_test,recall_test,pres_test,auc_test ]\n",
    "\n",
    "        y_pred=pd.DataFrame(y_pred,index=y_test.index,columns=Findex)\n",
    "        \n",
    "        Y_pred_test= pd.concat([y_test,y_pred],axis=1)\n",
    "        frames_test.append(Y_pred_test)\n",
    "        \n",
    "        ### Check Feature Importance\n",
    "        if model_idx!='DummyClassifier':\n",
    "            FImpor=pd.DataFrame(sorted(zip(X_train.columns,model.feature_importances_),key=lambda x: x[1],reverse=True),columns=['Name','Importance'])\n",
    "            Import_Feature.append(FImpor)\n",
    "        \n",
    "        Y_pred_test= pd.concat([y_test,y_pred],axis=1)\n",
    "        frames_test.append(Y_pred_test)\n",
    "\n",
    "    df_pred_test = pd.concat(frames_test, keys=column_Classifiers, axis=1)\n",
    "    df_impor_Fea = pd.concat( Import_Feature, keys=column_Classifiers, axis=1)\n",
    "    #results=results.T\n",
    "    \n",
    "    return results,df_pred_test,df_impor_Fea\n"
   ]
  },
  {
   "cell_type": "code",
   "execution_count": 32,
   "id": "0eeffb31-f32c-42a9-88f7-28301aeb9f35",
   "metadata": {},
   "outputs": [
    {
     "name": "stdout",
     "output_type": "stream",
     "text": [
      "DummyClassifier\n",
      "0.9196457606174258 0.8457483250216037 0.8811504105315567 0.5\n",
      "RandomForestClassifier\n",
      "0.9196891191709845 0.897483137029331 0.8813628862422397 0.6581395431887568\n",
      "DecisionTreeClassifier\n",
      "0.8446896611529039 0.859108875043169 0.8517114984249752 0.5254196742307498\n",
      "XGBClassifier\n",
      "[10:50:05] WARNING: ../src/learner.cc:1115: Starting in XGBoost 1.3.0, the default evaluation metric used with the objective 'binary:logistic' was changed from 'error' to 'logloss'. Explicitly set eval_metric if you'd like to restore the old behavior.\n",
      "0.9190170615908253 0.8772795663379751 0.882787673970727 0.7039041343495471\n"
     ]
    }
   ],
   "source": [
    "\n",
    "[score_results,pred_test,Imp_Feat]=Model_Classifier(Classifiers,\\\n",
    "                                           params_Classifiers,X_train,Y_train,\\\n",
    "                                           X_test,Y_test,nsplits,seed)"
   ]
  },
  {
   "cell_type": "code",
   "execution_count": 10,
   "id": "2859add0-0854-41dc-8e31-7fc564434771",
   "metadata": {},
   "outputs": [
    {
     "data": {
      "image/png": "[encoded data removed]",
      "text/plain": [
       "<Figure size 1440x432 with 1 Axes>"
      ]
     },
     "metadata": {
      "needs_background": "light"
     },
     "output_type": "display_data"
    }
   ],
   "source": [
    "f, axe = plt.subplots(1,1, figsize=(20,6))\n",
    "score_results_T=score_results.reset_index()\n",
    "\n",
    "score_results_T.plot(x = 'index',  kind=\"bar\",ax=axe)\n",
    "axe.set_ylim([0,1])\n",
    "axe.set_ylabel('Score',fontsize=18)\n",
    "axe.set_xlabel('Models',fontsize=18)\n",
    "axe.tick_params(axis='both', labelsize=16)\n",
    "plt.grid()"
   ]
  },
  {
   "cell_type": "markdown",
   "id": "dc1270c6-7091-4371-9d83-7b1085085ef3",
   "metadata": {},
   "source": [
    "### Check Feature Importance"
   ]
  },
  {
   "cell_type": "code",
   "execution_count": null,
   "id": "14ded57e-124f-4a07-88d1-7ad6d775ee53",
   "metadata": {},
   "outputs": [],
   "source": []
  }
 ],
 "metadata": {
  "kernelspec": {
   "display_name": "Python 3 (ipykernel)",
   "language": "python",
   "name": "python3"
  },
  "language_info": {
   "codemirror_mode": {
    "name": "ipython",
    "version": 3
   },
   "file_extension": ".py",
   "mimetype": "text/x-python",
   "name": "python",
   "nbconvert_exporter": "python",
   "pygments_lexer": "ipython3",
   "version": "3.9.7"
  }
 },
 "nbformat": 4,
 "nbformat_minor": 5
}
