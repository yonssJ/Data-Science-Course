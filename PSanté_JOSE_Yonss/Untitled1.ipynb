{
 "cells": [
  {
   "cell_type": "code",
   "execution_count": null,
   "id": "da15cef0-d837-4ed2-b132-dfd1efa3833a",
   "metadata": {},
   "outputs": [],
   "source": [
    "if marche_FR == 1:\n",
    "    if file2.exists ():\n",
    "        print (\"Ne faites rien....\")\n",
    "    else:\n",
    "        df = []\n",
    "        for maxrow in range(0,len_file1,deltaline):\n",
    "            file_new = Path(str(dir_data_abs) +\"/FR_\" + str(maxrow+deltaline)+\".csv\", low_memory=False)\n",
    "            df_in =pd.read_csv(file_new,  sep='\\t', encoding='utf-8')\n",
    "            df.append(df_in)\n",
    "        \n",
    "        new_df = pd.concat(df)\n",
    "        # Creer un fichier .csv avec les donnees du marché Français\n",
    "        new_df.to_csv (file2,  sep='\\t', encoding='utf-8') \n",
    "        print (\"Rassembler les fichiers pour le marché Français\")\n",
    " "
   ]
  },
  {
   "cell_type": "code",
   "execution_count": 6,
   "id": "cd2c62f7-8c26-47ee-9d9c-9d7555352e3a",
   "metadata": {},
   "outputs": [
    {
     "data": {
      "text/plain": [
       "0.75"
      ]
     },
     "execution_count": 6,
     "metadata": {},
     "output_type": "execute_result"
    }
   ],
   "source": [
    "3/4"
   ]
  },
  {
   "cell_type": "code",
   "execution_count": null,
   "id": "9d5abb54-38e5-419d-a5f2-2e4718ece5ff",
   "metadata": {},
   "outputs": [],
   "source": []
  }
 ],
 "metadata": {
  "kernelspec": {
   "display_name": "Python 3",
   "language": "python",
   "name": "python3"
  },
  "language_info": {
   "codemirror_mode": {
    "name": "ipython",
    "version": 3
   },
   "file_extension": ".py",
   "mimetype": "text/x-python",
   "name": "python",
   "nbconvert_exporter": "python",
   "pygments_lexer": "ipython3",
   "version": "3.8.8"
  }
 },
 "nbformat": 4,
 "nbformat_minor": 5
}
