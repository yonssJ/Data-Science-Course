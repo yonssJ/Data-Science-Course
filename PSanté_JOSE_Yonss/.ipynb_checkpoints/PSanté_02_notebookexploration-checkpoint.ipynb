{
 "cells": [
  {
   "cell_type": "code",
   "execution_count": 1,
   "id": "0096c83c-97fa-4f5e-9417-0b294f5fa1de",
   "metadata": {},
   "outputs": [],
   "source": [
    "import numpy as np\n",
    "import pandas as pd\n",
    "import matplotlib.pyplot as plt\n",
    "import seaborn as sb\n",
    "from pandas import Series"
   ]
  },
  {
   "cell_type": "code",
   "execution_count": 2,
   "id": "c3e4cab8-ead5-4d67-b4c4-ea22c10ef71e",
   "metadata": {},
   "outputs": [],
   "source": [
    "def group_and_loc_group(df,categ):\n",
    "    grouped = df.groupby(categ, as_index=False)\n",
    "    df_grouped=[]\n",
    "    for i in grouped.groups.keys():\n",
    "        loc=grouped.groups[i]\n",
    "        df_grouped.append(pd.DataFrame(df.iloc[loc]))\n",
    "    return grouped, df_grouped"
   ]
  },
  {
   "cell_type": "code",
   "execution_count": 3,
   "id": "fc98e817-369c-4631-8a33-92bdf7c4ef6b",
   "metadata": {},
   "outputs": [
    {
     "name": "stderr",
     "output_type": "stream",
     "text": [
      "/Users/yjose/.conda/envs/P3/lib/python3.8/site-packages/IPython/core/interactiveshell.py:3165: DtypeWarning: Columns (0,8,13,47,52,64) have mixed types.Specify dtype option on import or set low_memory=False.\n",
      "  has_raised = await self.run_ast_nodes(code_ast.body, cell_name,\n"
     ]
    }
   ],
   "source": [
    "df =pd.read_csv('../../P3/DATA/FR.openfoodfacts.org.products_milhion.csv')"
   ]
  },
  {
   "cell_type": "code",
   "execution_count": null,
   "id": "c7094895-6d99-49f6-94ee-5928452d9257",
   "metadata": {},
   "outputs": [],
   "source": [
    "# Groupee par nutriscore\n",
    "    groupby = ['nutriscore']\n",
    "    [grouped, df_grouped] = group_and_loc_group(df,groupby)\n",
    " "
   ]
  }
 ],
 "metadata": {
  "kernelspec": {
   "display_name": "Python 3",
   "language": "python",
   "name": "python3"
  },
  "language_info": {
   "codemirror_mode": {
    "name": "ipython",
    "version": 3
   },
   "file_extension": ".py",
   "mimetype": "text/x-python",
   "name": "python",
   "nbconvert_exporter": "python",
   "pygments_lexer": "ipython3",
   "version": "3.8.8"
  }
 },
 "nbformat": 4,
 "nbformat_minor": 5
}
