{
 "cells": [
  {
   "cell_type": "markdown",
   "id": "12943e10-9172-4a36-8acb-d4cebb13a7df",
   "metadata": {},
   "source": [
    "# Projets -  idées  innovantes d’applications en lien avec l'alimentation\n",
    "\n",
    "## Résumé \n",
    "\n",
    "On veut savoir les aliments les plus addapté pour une personne que envisage d'aquerir de bonnes habitudes alimentaires. On cherche donc à prédire la présence de graisses saturées, omega 3, omega 6, omega 9, du sel et sucre non necessaire, vitamines, fibres, mineraux, proteines et calcium. Cela en evitant les additifs et on previlegient les aliments avec un nutriscore et ecoscore favorable.\n",
    "\n",
    "## Méthode "
   ]
  },
  {
   "cell_type": "code",
   "execution_count": 1,
   "id": "b95a080b-cf65-46ff-ab80-7082d8451a03",
   "metadata": {},
   "outputs": [],
   "source": [
    "import numpy as np\n",
    "import pandas as pd\n",
    "import matplotlib.pyplot as plt\n",
    "from pathlib import Path\n",
    "from pandas import Series\n",
    "from myfile import remove_outlier,isnull_values_sum,plot_box_plot,read_csv_morceaux,\\\n",
    "                   file_len,read_csv_morceaux_nutriscore,variables_with_nutriscore\n",
    "    "
   ]
  },
  {
   "cell_type": "markdown",
   "id": "4ee92469-8bf1-47ff-a5ac-dba17e2ad33a",
   "metadata": {},
   "source": [
    "### Liste de variables necessaires pour le projet"
   ]
  },
  {
   "cell_type": "code",
   "execution_count": 2,
   "id": "88d82771-cf75-4181-9751-288bb20ac867",
   "metadata": {},
   "outputs": [],
   "source": [
    "# Liste de variables necessaires pour le projet\n",
    "List_projet =  ['product_name','categories','nutriscore_grade','nutriscore_score','nova_group','ecoscore_grade_fr','ecoscore_score_fr',\n",
    "                'countries_en','origins_tags','labels','allergens','additives_en','ingredients_from_palm_oil_n',\n",
    "                'ingredients_that_may_be_from_palm_oil_n','fat_100g','saturated-fat_100g','energy-kcal_100g','energy-kj_100g',\n",
    "                'carbon-footprint-from-meat-or-fish_100g','carbohydrates_100g','omega-3-fat_100g','omega-6-fat_100g','omega-9-fat_100g',\n",
    "                'cholesterol_100g','trans-fat_100g','sugars_100g','proteins_100g','salt_100g','sodium_100g',\n",
    "                'alcohol_100g','vitamin-a_100g','vitamin-d_100g','vitamin-e_100g',\n",
    "                'vitamin-k_100g','vitamin-c_100g','vitamin-b1_100g','vitamin-b2_100g','vitamin-pp_100g','calcium_100g',\n",
    "                'vitamin-b6_100g','vitamin-b9_100g','vitamin-b12_100g','fruits-vegetables-nuts_100g','fruits-vegetables-nuts-dried_100g',\n",
    "                'fruits-vegetables-nuts-estimate_100g']"
   ]
  },
  {
   "cell_type": "code",
   "execution_count": 3,
   "id": "fa9be58d-d4ba-4071-92c6-95a620f4d167",
   "metadata": {},
   "outputs": [],
   "source": [
    "pd.set_option(\"display.precision\", 2)          \n",
    "pd.set_option(\"display.max.columns\", None)    \n",
    "pd.set_option(\"display.max.rows\", None)\n",
    "\n",
    "dir_data = Path('../../DATA/P3/') \n",
    "dir_fig  = Path('../../FIGURES/P3/')\n",
    "file1    = Path(str(dir_data) + \"/en.openfoodfacts.org.products.csv\")\n",
    "dir_data_abs= Path(file1).parent.absolute()\n",
    "\n",
    "marche_FR = 1\n",
    "if marche_FR == 1:\n",
    "    region = 'FR_'\n",
    "    header = \"/head_FR.xlsx\"\n",
    "    file2 = Path(str(dir_data) + \"/FR.openfoodfacts.org.products.csv\")\n",
    "    file3 = Path(str(dir_data) + \"/Projet.openfoodfacts.org.products.csv\")\n",
    "else:\n",
    "    region = 'GLOBAL_'\n",
    "    header = \"/head_GLOBAL.xlsx\"\n",
    "    file2 = Path(str(dir_data) + \"/NScore.openfoodfacts.org.products.csv\")\n",
    "    file3 = Path(str(dir_data) + \"/Projet_NScore.openfoodfacts.org.products.csv\")   "
   ]
  },
  {
   "cell_type": "markdown",
   "id": "c59fe176-a14b-4735-a858-4ab25a835c29",
   "metadata": {},
   "source": [
    "### Telechargement des données"
   ]
  },
  {
   "cell_type": "code",
   "execution_count": null,
   "id": "828dfd12-d7b5-4b52-ba82-7c612fdbd459",
   "metadata": {},
   "outputs": [],
   "source": [
    "if marche_FR == 1:\n",
    "    if file2.exists ():\n",
    "        new_df =pd.read_csv(file2,  sep='\\t', encoding='utf-8', low_memory=False)\n",
    "        print (\"Fichier existe\")\n",
    "    else:\n",
    "        maxrow0=0\n",
    "        len_file1=file_len(file1)\n",
    "        deltaline =500000\n",
    "        for maxrow in range(0,len_file1,deltaline):\n",
    "            print(maxrow+deltaline,'sur',len_file1) \n",
    "            read_csv_morceaux(file1,maxrow,deltaline,'countries_en',r'France','France',str(dir_data_abs),region)\n",
    "            \n",
    "        df = []\n",
    "        for maxrow in range(0,len_file1,deltaline):\n",
    "            file_new = Path(str(dir_data_abs) +'/' + str(region) + str(maxrow+deltaline)+\".csv\", low_memory=False)\n",
    "            df_in =pd.read_csv(file_new,  sep='\\t', encoding='utf-8')\n",
    "            df.append(df_in)\n",
    "        \n",
    "        new_df = pd.concat(df)\n",
    "        # Creer un fichier .csv avec les donnees du marché Français\n",
    "        new_df.to_csv (file2,  sep='\\t', encoding='utf-8') \n",
    "        print (\"Rassembler les fichiers pour le marché Français\")\n",
    "        new_df.head().T.to_excel(Path(str(dir_data) + str(header)))\n",
    "        "
   ]
  },
  {
   "cell_type": "markdown",
   "id": "eed9d939-09d4-4cfd-b281-3aa6eb60d0c4",
   "metadata": {},
   "source": [
    "Plus de la moitier des produits vendu sur le marche Francais et repertorié dans cette serie de donnees n'ont pas des informations sur le nutriscore. Donc, je change de strategie et je analyse egalement les donnees du marchee mundial que ont les informations sur le nutriscore.\n"
   ]
  },
  {
   "cell_type": "code",
   "execution_count": null,
   "id": "610d986d-2352-4939-b6c1-3b31350042e8",
   "metadata": {},
   "outputs": [],
   "source": [
    "if marche_FR == 0:\n",
    "    if file2.exists ():\n",
    "        new_df =pd.read_csv(file2,  sep='\\t', encoding='utf-8', low_memory=False)\n",
    "        print (\"Fichier existe\")\n",
    "    else:\n",
    "        maxrow0=0\n",
    "        len_file1=file_len(file1)\n",
    "        deltaline =500000\n",
    "        for maxrow in range(0,len_file1,deltaline):\n",
    "            print(maxrow+deltaline,'sur',len_file1) \n",
    "            read_csv_morceaux(file1,maxrow,deltaline,'nutriscore_grade',str(dir_data_abs),region)\n",
    "            \n",
    "        df = []\n",
    "        for maxrow in range(0,len_file1,deltaline):\n",
    "            file_new = Path(str(dir_data_abs) +'/' + str(region)  + str(maxrow+deltaline)+\".csv\", low_memory=False)\n",
    "            df_in =pd.read_csv(file_new,  sep='\\t', encoding='utf-8')\n",
    "            df.append(df_in)\n",
    "        \n",
    "        new_df = pd.concat(df)\n",
    "        # Creer un fichier .csv avec les donnees du marché mundial\n",
    "        new_df.to_csv (file2,  sep='\\t', encoding='utf-8') \n",
    "        print (\"Rassembler les fichiers pour le marché Mundial avec nutriscore non nulle\")\n",
    "        new_df.head().T.to_excel(Path(str(dir_data) + str(header)))"
   ]
  },
  {
   "cell_type": "markdown",
   "id": "4022268f-c234-4feb-88db-13d6a31d66c0",
   "metadata": {},
   "source": [
    "#### Donnees necessaires pour le projet"
   ]
  },
  {
   "cell_type": "code",
   "execution_count": null,
   "id": "31f9165b-a48e-4ef0-9b1e-7bde43d4ac9b",
   "metadata": {},
   "outputs": [],
   "source": [
    "filtered_df = new_df.loc[:,List_projet]"
   ]
  },
  {
   "cell_type": "markdown",
   "id": "f2c1067e-f4aa-45a1-b0df-f0170c24e144",
   "metadata": {},
   "source": [
    "#### Traiter les doublons"
   ]
  },
  {
   "cell_type": "code",
   "execution_count": null,
   "id": "a145ebe1-f68a-49f8-b325-6efee92bfe47",
   "metadata": {},
   "outputs": [],
   "source": [
    "df_dup = new_df.duplicated().sum()\n",
    "if df_dup>0:\n",
    "    new_df = new_df.drop_duplicates()\n",
    "    print('Total doublons:  ',df_dup)"
   ]
  },
  {
   "cell_type": "markdown",
   "id": "a8eb46a0-16d8-4ab2-9f3f-a329f9453241",
   "metadata": {},
   "source": [
    "#### Traiter les valeurs aberrants"
   ]
  },
  {
   "cell_type": "code",
   "execution_count": null,
   "id": "c27f3f4a-99ea-4ee0-b779-8d01d341268f",
   "metadata": {},
   "outputs": [],
   "source": [
    "figure_name =Path(str(dir_fig) +'/' + str(region) + str('Before_remove_Outliers.jpeg'))\n",
    "\n",
    "ylabel = \" \"\n",
    "xlabel = \" \"\n",
    "ax = plot_box_plot(filtered_df,xlabel,ylabel,figure_name)"
   ]
  },
  {
   "cell_type": "code",
   "execution_count": null,
   "id": "4db976b0-98ec-45dc-9a63-2b92cb1e19a5",
   "metadata": {},
   "outputs": [],
   "source": [
    "q1value=0.25\n",
    "q3value=0.75\n",
    "df1 = remove_outlier(filtered_df,q1value,q3value)"
   ]
  },
  {
   "cell_type": "code",
   "execution_count": null,
   "id": "bc2c2b3a-825d-464a-9c3c-c1c384ab9c31",
   "metadata": {},
   "outputs": [],
   "source": [
    "figure_name =Path(str(dir_fig) +'/' + str(region) + str('After_remove_Outliers.jpeg'))\n",
    "\n",
    "ylabel = \" \"\n",
    "xlabel = \" \"\n",
    "ax = plot_box_plot(df1,xlabel,ylabel,figure_name)"
   ]
  },
  {
   "cell_type": "markdown",
   "id": "8d280ca1-cf6d-4ae5-846a-313bacd38782",
   "metadata": {},
   "source": [
    "Energy_cal_100g, energy_kj_100g et carbon-footprint-from-meat-or-fish_100g ont encore des valeurs \n",
    "aberrant."
   ]
  },
  {
   "cell_type": "markdown",
   "id": "bb3a69bb-ab71-432f-82e0-d76f892fd900",
   "metadata": {},
   "source": [
    "#### Traiter les valeurs manquants"
   ]
  },
  {
   "cell_type": "code",
   "execution_count": null,
   "id": "e56e7857-eb1d-4cb8-a032-d543a663d9b2",
   "metadata": {},
   "outputs": [],
   "source": [
    "Null = df1.isnull().sum() \n",
    "Na = df1.isna().sum()\n",
    "df_NaN = pd.DataFrame(data=Na)\n",
    "print(df_NaN)"
   ]
  },
  {
   "cell_type": "markdown",
   "id": "47e81924-6b92-4c72-8d0d-5be1f5cef8e9",
   "metadata": {},
   "source": [
    "Je fait le choix de, dans un premier temps, supprimer certain variables que sont truffée de données manquantes (plus de 50% de valeurs manquantes pour les donnees global  et en function de nutriscore dans les donnees Francais). J'ai egalement choisi de ne pas imputer les valeurs manquantes cars pour le projet, cela peut engendrer des erreurs sur la proposition des produits sains.\n"
   ]
  },
  {
   "cell_type": "code",
   "execution_count": null,
   "id": "1c9f26ef-90ae-4ec8-b357-d1b6113bcf98",
   "metadata": {},
   "outputs": [],
   "source": [
    "if marche_FR == 1:\n",
    "    a = df_NaN.loc['nutriscore_grade']\n",
    "    nutriscore_values = a[0]+1\n",
    "    variables_with_nutriscore(df1,nutriscore_values)\n",
    "else:\n",
    "    define_max_acepteble_nan= 2        # 2 c'est la moitier de NaN or Nul\n",
    "    df_final = isnull_values_sum(df1,define_max_acepteble_nan)\n",
    "    \n",
    "print(df1.shape)\n",
    "print(df_final.shape)"
   ]
  },
  {
   "cell_type": "code",
   "execution_count": null,
   "id": "836c99e4-9b4f-4d50-90c3-080ad9c57fc0",
   "metadata": {},
   "outputs": [],
   "source": [
    "# Creer un fichier .csv avec les donnees du marché Francais\n",
    "df_final.to_csv (file3, sep='\\t', encoding='utf-8')#, index = False, header=True)\n",
    "print (\"Creater le fichier pour le projet \")"
   ]
  },
  {
   "cell_type": "code",
   "execution_count": null,
   "id": "8dd7f3f8-6f06-4de0-a121-f64e90e6c5c3",
   "metadata": {},
   "outputs": [],
   "source": [
    "df_final.head()"
   ]
  },
  {
   "cell_type": "code",
   "execution_count": null,
   "id": "528f8a75-cac7-4581-bef3-07f76f4be501",
   "metadata": {},
   "outputs": [],
   "source": [
    "index = df_NaN.index\n",
    "a = df_NaN.loc['nutriscore_grade']\n",
    "a[1]"
   ]
  },
  {
   "cell_type": "code",
   "execution_count": null,
   "id": "d0c4765f-c7a9-4b17-8e28-eddc2d9ebd0b",
   "metadata": {},
   "outputs": [],
   "source": [
    "type(df_NaN)"
   ]
  },
  {
   "cell_type": "code",
   "execution_count": null,
   "id": "fef0d2b6-6689-48bc-a619-7019eb6d4dba",
   "metadata": {},
   "outputs": [],
   "source": []
  }
 ],
 "metadata": {
  "kernelspec": {
   "display_name": "Python 3",
   "language": "python",
   "name": "python3"
  },
  "language_info": {
   "codemirror_mode": {
    "name": "ipython",
    "version": 3
   },
   "file_extension": ".py",
   "mimetype": "text/x-python",
   "name": "python",
   "nbconvert_exporter": "python",
   "pygments_lexer": "ipython3",
   "version": "3.8.8"
  }
 },
 "nbformat": 4,
 "nbformat_minor": 5
}
